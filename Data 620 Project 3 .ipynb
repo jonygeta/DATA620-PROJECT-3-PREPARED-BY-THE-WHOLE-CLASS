{
 "cells": [
  {
   "cell_type": "markdown",
   "metadata": {},
   "source": [
    "## DATA 620 Spring 2019\n",
    "#### Week 9 Project 3\n",
    "\n",
    "2019-04-01\n",
    "\n",
    "## Assignment\n",
    "\n",
    "__This is a Team Project!__  For this project, please work with the entire class as one collaborative group!  Your project should be submitted (as an Jupyter Notebook via GitHub). You should all submit a link to the same repository. \n",
    "\n",
    "Using any of the three classifiers described in chapter 6 of Natural Language Processing with Python, and any features you can think of, build the best name gender classifier you can. Begin by splitting the Names Corpus into three subsets: 500 words for the test set, 500 words for the dev-test set, and the remaining 6900 words for the training set. Then, starting with the example name gender classifier, make incremental improvements. Use the dev-test set to check your progress. Once you are satisfied with your classifier, check its final performance on the test set. How does the performance on the test set compare to the performance on the dev-test set? Is this what you'd expect? \n",
    "\n",
    "Source: Natural Language Processing with Python, exercise 6.10.2.\n",
    "\n",
    "### Import packages"
   ]
  },
  {
   "cell_type": "code",
   "execution_count": 1,
   "metadata": {},
   "outputs": [],
   "source": [
    "import nltk\n",
    "from nltk.corpus import names\n",
    "from nltk.classify import apply_features\n",
    "import random\n",
    "import pandas as pd\n",
    "import numpy as np\n",
    "from sklearn.metrics import classification_report\n",
    "from sklearn.metrics import confusion_matrix\n",
    "import matplotlib.pyplot as plt\n",
    "import matplotlib.ticker as mtick\n",
    "import warnings\n",
    "from sklearn.utils import shuffle\n",
    "import re\n",
    "import itertools\n",
    "\n",
    "# hide warnings after first occurence\n",
    "# warnings.filterwarnings(action='once')\n"
   ]
  },
  {
   "cell_type": "markdown",
   "metadata": {},
   "source": [
    "### Data import\n"
   ]
  },
  {
   "cell_type": "code",
   "execution_count": 2,
   "metadata": {},
   "outputs": [],
   "source": [
    "# check whether nltk data is available if not download\n",
    "try:\n",
    "    nltk.data.find('corpora/names/README')\n",
    "except LookupError:\n",
    "    nltk.download('names')\n",
    "\n",
    "# import data\n",
    "dfNames = \\\n",
    "pd.concat(\n",
    "    [pd.DataFrame({'name' : names.words('female.txt')\n",
    "                  , 'gender' : 'female'})\n",
    "    , pd.DataFrame({'name' : names.words('male.txt')\n",
    "                    , 'gender' : 'male'})],axis=0,ignore_index=True)\n",
    "\n",
    "# make all names lowercase\n",
    "dfNames['name'] = dfNames['name'].str.lower()\n",
    "\n",
    "# create features of interest and store in new column\n",
    "dfNames['firstChar'] = dfNames['name'].str[0]\n",
    "dfNames['firstBi'] = dfNames['name'].str[:2]\n",
    "dfNames['firstTri'] = dfNames['name'].str[:3]\n",
    "dfNames['lastChar'] = dfNames['name'].str[-1]\n",
    "dfNames['lastBi'] = dfNames['name'].str[-2:]\n",
    "dfNames['lastTri'] = dfNames['name'].str[-3:]\n",
    "dfNames['cntChar'] = dfNames['name'].str.len()\n",
    "dfNames['cntUnqChar'] = dfNames['name'].apply(set).apply(len)\n",
    "dfNames['cntConsns'] = dfNames['name'].str.count(r'[bcdfghjklmnpqrstvwxzy]', flags=re.I)\n",
    "dfNames['cntVowels'] = dfNames['name'].str.count(r'[aeiou]', flags=re.I)\n",
    "dfNames['starVowel'] = dfNames['name'].str.match(r'^[aeiou].*$')\n",
    "dfNames['endVowel'] = dfNames['name'].str.match(r'.*[aeiou]$')\n",
    "\n",
    "# add count of each letter and logical if letter is present\n",
    "for letter in 'abcdefghijklmnopqrstuvwxyz':\n",
    "    dfNames['cnt_' + letter.upper()] = \\\n",
    "    dfNames['name'].str.count(letter)\n",
    "\n",
    "    dfNames['has_' + letter.upper()] = \\\n",
    "    dfNames['name'].str.match(r'.*' + letter)\n",
    "\n",
    "# count of syallables\n",
    "def count_syllable(word):\n",
    "    word = word.lower()\n",
    "    vowels = 'aeiouy'\n",
    "\n",
    "    count = 0\n",
    "    if word[0] in vowels:\n",
    "        count += 1\n",
    "    for i in range(1, len(word)):\n",
    "        if word[i] in vowels and word[i-1] not in vowels:\n",
    "            count += 1\n",
    "    if word.endswith('e'):\n",
    "        count -= 1\n",
    "    elif word.endswith('le'):\n",
    "        count += 1\n",
    "    elif word.endswith('bile'):\n",
    "        count -= 1\n",
    "    elif count == 0:\n",
    "        count += 1\n",
    "    return count\n",
    "\n",
    "dfNames['cntSyll'] = dfNames['name'].apply(count_syllable)\n",
    "\n",
    "# consonant clusters\n",
    "def naive_features3(name):\n",
    "    features = {}\n",
    "    name_holder = name\n",
    "    eng_constants = [\"bl\", \"br\", \"ch\", \"cl\", \"cr\", \"dr\", \"fl\", \"fr\"\\\n",
    "                     , \"gl\", \"gr\", \"pl\", \"pr\", \"sc\", \"sh\", \"sk\", \"sl\"\\\n",
    "                     , \"sm\", \"sn\", \"sp\", \"st\", \"sw\", \"th\", \"tr\", \"tw\"\\\n",
    "                     , \"wh\", \"wr\", \"sch\", \"scr\", \"shr\", \"sph\", \"spl\"\\\n",
    "                     , \"spr\", \"squ\", \"str\", \"thr\"]\n",
    "    clusters = []\n",
    "    for cluster in eng_constants[::-1]:\n",
    "        if cluster in name_holder:\n",
    "            name_holder = name_holder.replace(cluster, \"\")\n",
    "            clusters.append(cluster)\n",
    "    features[\"clusters1\"] = clusters[0] if len(clusters) > 0 else None\n",
    "    features[\"clusters2\"] = clusters[1] if len(clusters) > 1 else None\n",
    "    features[\"clusters3\"] = clusters[2] if len(clusters) > 2 else None\n",
    "    return features\n",
    "\n",
    "# join dictionary of clusters to names data frame\n",
    "dfNames = \\\n",
    "dfNames.join(\n",
    "    pd.DataFrame.from_records(\n",
    "        dfNames['name'].map(naive_features3).tolist()))\n",
    "\n",
    "# additional features?\n",
    "## phonetic pronunciation\n",
    "## dichotomous, based on most common starting/ending letter by gender?"
   ]
  },
  {
   "cell_type": "markdown",
   "metadata": {},
   "source": [
    "## Exploratory data analysis\n",
    "\n",
    "To start we looked at the proportion of names starting with a particular letter by gender.  There are some notable differences; we see that Female names more commonly start with a, c, and m than male names and male names start with h, r, s, t, and w.\n"
   ]
  },
  {
   "cell_type": "code",
   "execution_count": 3,
   "metadata": {},
   "outputs": [
    {
     "data": {
      "image/png": "[encoded data removed]",
      "text/plain": [
       "<Figure size 864x432 with 2 Axes>"
      ]
     },
     "metadata": {
      "needs_background": "light"
     },
     "output_type": "display_data"
    }
   ],
   "source": [
    "# calculate percentage of names starting with character by gender\n",
    "# TODO Change Y-axis to percenage, change plot to custom function\n",
    "dfCrsFstChr = \\\n",
    "pd.crosstab(index=dfNames['firstChar'], \n",
    "                     columns=dfNames['gender'], \n",
    "                     values=1, \n",
    "                     aggfunc='sum', \n",
    "                     normalize='columns')# .applymap('{:.2f}%'.format)\n",
    "\n",
    "# bar plot of first character against gender\n",
    "pltCrs = \\\n",
    "dfCrsFstChr.plot(kind = 'bar', subplots = True, stacked = False\n",
    "                 , rot = 0, figsize=(12,6), legend=False\n",
    "                 , sharey = True, title = 'First character')\n",
    "\n",
    "plt.xlabel('')\n",
    "plt.show()"
   ]
  },
  {
   "cell_type": "markdown",
   "metadata": {},
   "source": [
    "Reviewing the proportion of names ending with a given letter we see that a large proportion of female names end in the letters a and e both of which occur at a considerably higher rate for females than males.  Expanding to all vowels we see the trend continues for for i, but males have a higher proportion for o and y in this data set."
   ]
  },
  {
   "cell_type": "code",
   "execution_count": 4,
   "metadata": {},
   "outputs": [
    {
     "data": {
      "image/png": "[encoded data removed]",
      "text/plain": [
       "<Figure size 864x432 with 2 Axes>"
      ]
     },
     "metadata": {
      "needs_background": "light"
     },
     "output_type": "display_data"
    }
   ],
   "source": [
    "# calculate percentage of names ending with character by gender\n",
    "dfCrsLstChr = \\\n",
    "pd.crosstab(index=dfNames['lastChar'], \n",
    "                     columns=dfNames['gender'], \n",
    "                     values=1, \n",
    "                     aggfunc='sum', \n",
    "                     normalize='columns')# .applymap('{:.2f}%'.format)\n",
    "\n",
    "# bar plot of first character against gender\n",
    "pltCrs = \\\n",
    "dfCrsLstChr.plot(kind = 'bar', subplots = True, stacked = False\n",
    "                 , rot = 0, figsize=(12,6), legend=False\n",
    "                 , sharey = True, title = 'Last character')\n",
    "\n",
    "plt.xlabel('')\n",
    "plt.show()"
   ]
  },
  {
   "cell_type": "markdown",
   "metadata": {},
   "source": [
    "Exploring the proportion of names containing a particular letter we see that over 50% of female names in the data contain the letter a."
   ]
  },
  {
   "cell_type": "code",
   "execution_count": 5,
   "metadata": {},
   "outputs": [
    {
     "data": {
      "image/png": "[encoded data removed]",
      "text/plain": [
       "<Figure size 864x432 with 2 Axes>"
      ]
     },
     "metadata": {
      "needs_background": "light"
     },
     "output_type": "display_data"
    }
   ],
   "source": [
    "# calculate number of names which have a given letter\n",
    "dfCrsChrHas = \\\n",
    "dfNames.loc[:, dfNames.columns.to_series().str.match('^has|gender')]\\\n",
    ".melt(id_vars=['gender']).groupby(['gender', 'variable']).sum()\\\n",
    ".unstack().T\n",
    "\n",
    "# change counts to proportion of names by gender\n",
    "dfCrsChrHas['female'] = \\\n",
    "dfCrsChrHas['female'] / sum(dfNames['gender'] == 'female')\n",
    "\n",
    "dfCrsChrHas['male'] = \\\n",
    "dfCrsChrHas['male'] / sum(dfNames['gender'] == 'male')\n",
    "\n",
    "dfCrsChrHas.plot(kind = 'bar', subplots = True, stacked = False\n",
    "                 , rot = 90, figsize=(12,6), legend=False\n",
    "                 , sharey = True, title = 'Proportion of names containing character')\n",
    "\n",
    "\n",
    "plt.xlabel('')\n",
    "plt.show()"
   ]
  },
  {
   "cell_type": "markdown",
   "metadata": {},
   "source": [
    "Looking at the length of names by gender shows a similar distribution for both females and males and is likely not going to provide much information value for classification. Creating a similar visualization (not shown) for number of unique characters, count of consonants, count of vowels, and syllables  produce similar results."
   ]
  },
  {
   "cell_type": "code",
   "execution_count": 6,
   "metadata": {},
   "outputs": [
    {
     "data": {
      "image/png": "[encoded data removed]",
      "text/plain": [
       "<Figure size 864x432 with 1 Axes>"
      ]
     },
     "metadata": {
      "needs_background": "light"
     },
     "output_type": "display_data"
    }
   ],
   "source": [
    "# calculate percentage of name length by gender\n",
    "dfCrsChrLen = \\\n",
    "pd.crosstab(index=dfNames['cntChar'], columns=dfNames['gender'], \n",
    "                     values=1, aggfunc='sum', normalize='columns')\n",
    "\n",
    "# bar plot of first character against gender\n",
    "pltCrs = \\\n",
    "dfCrsChrLen.plot(kind = 'line', subplots = False, stacked = False\n",
    "                 , rot = 0, figsize=(12,6), legend=True\n",
    "                 , sharey = True, title = 'Name length')\n",
    "\n",
    "plt.xlabel('')\n",
    "plt.show()"
   ]
  },
  {
   "cell_type": "markdown",
   "metadata": {},
   "source": [
    "Comparing the frequency of a name starting or ending with a vowel we see that the number of names starting with vowels vs. consonants are relatively equal by gender, while the number of names ending with a vowel heavily favors names typically associated with females."
   ]
  },
  {
   "cell_type": "code",
   "execution_count": 7,
   "metadata": {},
   "outputs": [
    {
     "data": {
      "image/png": "[encoded data removed]",
      "text/plain": [
       "<Figure size 864x432 with 1 Axes>"
      ]
     },
     "metadata": {
      "needs_background": "light"
     },
     "output_type": "display_data"
    },
    {
     "data": {
      "image/png": "[encoded data removed]",
      "text/plain": [
       "<Figure size 864x432 with 1 Axes>"
      ]
     },
     "metadata": {
      "needs_background": "light"
     },
     "output_type": "display_data"
    }
   ],
   "source": [
    "# calculate percentage of names starting with character by gender\n",
    "dfCrsStrtVwl = \\\n",
    "pd.crosstab(index=dfNames['gender'], columns=dfNames['starVowel'], \n",
    "                     values=1, aggfunc='sum', normalize='index')\n",
    "\n",
    "# bar plot of first character against gender\n",
    "pltCrs = \\\n",
    "dfCrsStrtVwl.plot(kind = 'bar', subplots = False, stacked = True\n",
    "                 , rot = 0, figsize=(12,6), legend=True\n",
    "                 , sharey = True, title = 'Starts with vowel')\n",
    "\n",
    "plt.xlabel('')\n",
    "plt.show()\n",
    "\n",
    "dfCrsEndVwl = \\\n",
    "pd.crosstab(index=dfNames['gender'], columns=dfNames['endVowel'], \n",
    "                     values=1, aggfunc='sum', normalize='index')\n",
    "\n",
    "# bar plot of first character against gender\n",
    "pltCrs = \\\n",
    "dfCrsEndVwl.plot(kind = 'bar', subplots = False, stacked = True\n",
    "                 , rot = 0, figsize=(12,6), legend=True\n",
    "                 , sharey = True, title = 'Ends with vowel')\n",
    "\n",
    "plt.xlabel('')\n",
    "plt.show()"
   ]
  },
  {
   "cell_type": "markdown",
   "metadata": {},
   "source": [
    "## Model development\n",
    "\n",
    "### Split data\n",
    "\n",
    "Split the data into three groups, training, development, and testing."
   ]
  },
  {
   "cell_type": "code",
   "execution_count": 8,
   "metadata": {},
   "outputs": [
    {
     "name": "stdout",
     "output_type": "stream",
     "text": [
      "Data sizes; Training = 6943, Development = 500, Testing = 500\n"
     ]
    }
   ],
   "source": [
    "# set random seed for reproducibility\n",
    "random.seed(20190401)\n",
    "\n",
    "# randomly sort names list\n",
    "dfNames = shuffle(dfNames)\n",
    "\n",
    "# split data into training, development, and testing data sets\n",
    "dfTest, dfDev, dfTrain = \\\n",
    "dfNames[0:500], dfNames[501:1001], dfNames[1001:]\n",
    "\n",
    "# print length of data sets\n",
    "print(\"Data sizes; Training = {0}, Development = {1}, Testing = {2}\"\n",
    "      .format(len(dfTrain), len(dfDev), len(dfTest)))"
   ]
  },
  {
   "cell_type": "markdown",
   "metadata": {},
   "source": [
    "### Baseline (Naive Bayes)\n",
    "The baseline model follows the example from Chapter 6 of _Social Network Analysis for Startups_. The model, Naive Bayes Classifier, utilizes the last character and last two characters of each name as features.  The source for the confusion matrix plot function can be found on is from a [StackOverflow question](https://stackoverflow.com/questions/48817300/sklearn-plot-confusion-matrix-combined-across-trainingtest-sets)."
   ]
  },
  {
   "cell_type": "code",
   "execution_count": 9,
   "metadata": {},
   "outputs": [
    {
     "name": "stdout",
     "output_type": "stream",
     "text": [
      "Most Informative Features\n",
      "                  lastBi = 'na'           female : male   =     94.8 : 1.0\n",
      "                  lastBi = 'la'           female : male   =     66.8 : 1.0\n",
      "                  lastBi = 'us'             male : female =     38.5 : 1.0\n",
      "                  lastBi = 'ia'           female : male   =     37.8 : 1.0\n",
      "                  lastBi = 'sa'           female : male   =     32.9 : 1.0\n",
      "                lastChar = 'k'              male : female =     32.4 : 1.0\n",
      "                lastChar = 'a'            female : male   =     30.7 : 1.0\n",
      "                  lastBi = 'do'             male : female =     25.1 : 1.0\n",
      "                  lastBi = 'rd'             male : female =     24.7 : 1.0\n",
      "                  lastBi = 'ta'           female : male   =     23.5 : 1.0\n",
      "Accuracy = 0.748\n",
      "Confusion matrix, without normalization\n"
     ]
    },
    {
     "data": {
      "image/png": "[encoded data removed]",
      "text/plain": [
       "<Figure size 432x288 with 2 Axes>"
      ]
     },
     "metadata": {
      "needs_background": "light"
     },
     "output_type": "display_data"
    }
   ],
   "source": [
    "# list of feature columns from dataframe\n",
    "colFtrNms = ['lastChar', 'lastBi']\n",
    "\n",
    "# create tuples for train and dev with features as dictionary and gender as classification\n",
    "tplTrain = \\\n",
    "pd.DataFrame.from_dict(\n",
    "    {'featues' : dfTrain[list(colFtrNms)].to_dict('records')\n",
    "     , 'gender' : dfTrain['gender']}).apply(tuple, axis = 1).values.tolist()\n",
    "\n",
    "tplDev = \\\n",
    "pd.DataFrame.from_dict(\n",
    "    {'featues' : dfDev[list(colFtrNms)].to_dict('records')\n",
    "     , 'gender' : dfDev['gender']}).apply(tuple, axis = 1).values.tolist()\n",
    "\n",
    "# train classifier\n",
    "bslnMdlTrain = nltk.NaiveBayesClassifier.train(tplTrain)\n",
    "\n",
    "# show most informative\n",
    "bslnMdlTrain.show_most_informative_features(10)\n",
    "\n",
    "# check accuracy on dev data\n",
    "print(\"Accuracy = {0}\".format(nltk.classify.accuracy(bslnMdlTrain, tplDev)))\n",
    "\n",
    "# classify dev data\n",
    "devPred = []\n",
    "for row in dfDev[list(colFtrNms)].to_dict('records'):\n",
    "        devPred.append(bslnMdlTrain.classify(row))\n",
    "\n",
    "\n",
    "# confusion matrix\n",
    "# print(nltk.ConfusionMatrix(dfDev['gender'].tolist(), devPred))\n",
    "bslnDevCM = confusion_matrix(dfDev['gender'].tolist(), devPred)\n",
    "\n",
    "def plot_confusion_matrix(cm, classes,\n",
    "                          normalize=False,\n",
    "                          title='Confusion matrix',\n",
    "                          cmap=plt.cm.Blues):\n",
    "    \"\"\"\n",
    "    This function prints and plots the confusion matrix.\n",
    "    Normalization can be applied by setting `normalize=True`.\n",
    "    \"\"\"\n",
    "    if normalize:\n",
    "        cm = cm.astype('float') / cm.sum(axis=1)[:, np.newaxis]\n",
    "        print(\"Normalized confusion matrix\")\n",
    "    else:\n",
    "        print('Confusion matrix, without normalization')\n",
    "\n",
    "    #print(cm)\n",
    "\n",
    "    plt.imshow(cm, interpolation='nearest', cmap=cmap)\n",
    "    plt.title(title)\n",
    "    plt.colorbar()\n",
    "    tick_marks = np.arange(len(classes))\n",
    "    plt.xticks(tick_marks, classes, rotation=45)\n",
    "    plt.yticks(tick_marks, classes)\n",
    "\n",
    "    fmt = '.2f' if normalize else 'd'\n",
    "    thresh = cm.max() / 2.\n",
    "    for i, j in itertools.product(range(cm.shape[0]), range(cm.shape[1])):\n",
    "        plt.text(j, i, format(cm[i, j], fmt),\n",
    "                 horizontalalignment=\"center\",\n",
    "                 color=\"white\" if cm[i, j] > thresh else \"black\")\n",
    "\n",
    "    plt.tight_layout()\n",
    "    plt.ylabel('True label')\n",
    "    plt.xlabel('Predicted label')\n",
    "\n",
    "# cm = confusion_matrix(y_true, y_pred)\n",
    "# np.set_printoptions(precision=2)\n",
    "\n",
    "plt.figure()\n",
    "plot_confusion_matrix(bslnDevCM, classes=['female', 'male'],\n",
    "                      title='Confusion matrix', normalize=False)\n"
   ]
  },
  {
   "cell_type": "markdown",
   "metadata": {},
   "source": [
    "### Class developed model\n",
    "\n",
    "#### Naive Bayes\n",
    "\n",
    "Building on what was done in the textbook example this model incudes; first letter, last letter, first trigram, last trigram, and three features indicating whether the name has consonant clusters.\n"
   ]
  },
  {
   "cell_type": "code",
   "execution_count": 11,
   "metadata": {},
   "outputs": [
    {
     "name": "stdout",
     "output_type": "stream",
     "text": [
      "Most Informative Features\n",
      "                lastChar = 'k'              male : female =     32.4 : 1.0\n",
      "                lastChar = 'a'            female : male   =     30.7 : 1.0\n",
      "                 lastTri = 'ana'          female : male   =     24.5 : 1.0\n",
      "                 lastTri = 'tta'          female : male   =     23.7 : 1.0\n",
      "                 lastTri = 'ard'            male : female =     20.3 : 1.0\n",
      "                 lastTri = 'nne'          female : male   =     18.8 : 1.0\n",
      "                 lastTri = 'old'            male : female =     17.2 : 1.0\n",
      "                 lastTri = 'son'            male : female =     15.4 : 1.0\n",
      "                 lastTri = 'ita'          female : male   =     15.2 : 1.0\n",
      "                lastChar = 'f'              male : female =     14.6 : 1.0\n",
      "Accuracy = 0.83\n",
      "Confusion matrix, without normalization\n"
     ]
    },
    {
     "data": {
      "image/png": "[encoded data removed]",
      "text/plain": [
       "<Figure size 432x288 with 2 Axes>"
      ]
     },
     "metadata": {
      "needs_background": "light"
     },
     "output_type": "display_data"
    }
   ],
   "source": [
    "# list of feature columns from dataframe\n",
    "colFtrNms = ['firstChar', 'lastChar', 'firstTri', 'lastTri'\\\n",
    "             , 'cntSyll',  'clusters1', 'clusters2', 'clusters3']\n",
    "\n",
    "# create tuples for train and dev with features as dictionary and gender as classification\n",
    "tplTrain = \\\n",
    "pd.DataFrame.from_dict(\n",
    "    {'featues' : dfTrain[list(colFtrNms)].to_dict('records')\n",
    "     , 'gender' : dfTrain['gender']}).apply(tuple, axis = 1).values.tolist()\n",
    "\n",
    "tplDev = \\\n",
    "pd.DataFrame.from_dict(\n",
    "    {'featues' : dfDev[list(colFtrNms)].to_dict('records')\n",
    "     , 'gender' : dfDev['gender']}).apply(tuple, axis = 1).values.tolist()\n",
    "\n",
    "# train classifier\n",
    "nbMdlTrain = nltk.NaiveBayesClassifier.train(tplTrain)\n",
    "\n",
    "# show most informative\n",
    "nbMdlTrain.show_most_informative_features(10)\n",
    "\n",
    "# check accuracy on dev data\n",
    "print(\"Accuracy = {0}\".format(nltk.classify.accuracy(nbMdlTrain, tplDev)))\n",
    "\n",
    "# classify dev data\n",
    "devPred = []\n",
    "for row in dfDev[list(colFtrNms)].to_dict('records'):\n",
    "        devPred.append(nbMdlTrain.classify(row))\n",
    "\n",
    "\n",
    "# confusion matrix\n",
    "# print(nltk.ConfusionMatrix(dfDev['gender'].tolist(), devPred))\n",
    "bslnDevCM = confusion_matrix(dfDev['gender'].tolist(), devPred)\n",
    "\n",
    "plt.figure()\n",
    "plot_confusion_matrix(bslnDevCM, classes=['female', 'male'],\n",
    "                      title='Confusion matrix', normalize=False)\n"
   ]
  },
  {
   "cell_type": "markdown",
   "metadata": {},
   "source": [
    "#### Decision tree\n",
    "\n",
    "__NLTK decision tree__"
   ]
  },
  {
   "cell_type": "code",
   "execution_count": 12,
   "metadata": {},
   "outputs": [
    {
     "name": "stdout",
     "output_type": "stream",
     "text": [
      "Accuracy = 0.716\n",
      "Confusion matrix, without normalization\n"
     ]
    },
    {
     "data": {
      "image/png": "[encoded data removed]",
      "text/plain": [
       "<Figure size 432x288 with 2 Axes>"
      ]
     },
     "metadata": {
      "needs_background": "light"
     },
     "output_type": "display_data"
    }
   ],
   "source": [
    "# Repeat best naive bayes model using decision tree\n",
    "# list of feature columns from dataframe\n",
    "colFtrNms = ['firstChar', 'lastChar', 'firstTri', 'lastTri'\\\n",
    "             , 'cntSyll', 'clusters1', 'clusters2', 'clusters3']\n",
    "\n",
    "# create tuples for train and dev with features as dictionary and gender as classification\n",
    "tplTrain = \\\n",
    "pd.DataFrame.from_dict(\n",
    "    {'featues' : dfTrain[list(colFtrNms)].to_dict('records')\n",
    "     , 'gender' : dfTrain['gender']}).apply(tuple, axis = 1).values.tolist()\n",
    "\n",
    "tplDev = \\\n",
    "pd.DataFrame.from_dict(\n",
    "    {'featues' : dfDev[list(colFtrNms)].to_dict('records')\n",
    "     , 'gender' : dfDev['gender']}).apply(tuple, axis = 1).values.tolist()\n",
    "\n",
    "# train classifier\n",
    "dtMdlTrain = nltk.DecisionTreeClassifier.train(tplTrain, entropy_cutoff=0,support_cutoff=0)\n",
    "\n",
    "# check accuracy on dev data\n",
    "print(\"Accuracy = {0}\".format(nltk.classify.accuracy(dtMdlTrain, tplDev)))\n",
    "\n",
    "# classify dev data\n",
    "devPred = []\n",
    "for row in dfDev[list(colFtrNms)].to_dict('records'):\n",
    "        devPred.append(dtMdlTrain.classify(row))\n",
    "\n",
    "\n",
    "# confusion matrix\n",
    "# print(nltk.ConfusionMatrix(dfDev['gender'].tolist(), devPred))\n",
    "bslnDevCM = confusion_matrix(dfDev['gender'].tolist(), devPred)\n",
    "\n",
    "plt.figure()\n",
    "plot_confusion_matrix(bslnDevCM, classes=['female', 'male'],\n",
    "                      title='Confusion matrix', normalize=False)\n"
   ]
  },
  {
   "cell_type": "markdown",
   "metadata": {},
   "source": [
    "__Sklearn decision tree__"
   ]
  },
  {
   "cell_type": "code",
   "execution_count": null,
   "metadata": {
    "colab": {},
    "colab_type": "code",
    "id": "mFq74szUUctT"
   },
   "outputs": [],
   "source": [
    "from sklearn import preprocessing\n",
    "\n",
    "def clean_cat_data(tplTrain, columns):\n",
    "  le = preprocessing.LabelEncoder()\n",
    "\n",
    "  features = [i[0] for i in tplTrain]\n",
    "  genders = [i[1] for i in tplTrain]\n",
    "  feat_df = pd.DataFrame.from_dict(features)\n",
    "  \n",
    "  for col in columns:\n",
    "    le.fit(feat_df[col])\n",
    "    feat_df[col] = le.transform(feat_df[col])\n",
    "    \n",
    "  sample_feats = feat_df[columns]\n",
    "  \n",
    "  return sample_feats, genders"
   ]
  },
  {
   "cell_type": "code",
   "execution_count": null,
   "metadata": {
    "colab": {
     "base_uri": "https://localhost:8080/",
     "height": 519
    },
    "colab_type": "code",
    "executionInfo": {
     "elapsed": 10113,
     "status": "ok",
     "timestamp": 1553970286502,
     "user": {
      "displayName": "Michele Bradley",
      "photoUrl": "",
      "userId": "03729855868837276798"
     },
     "user_tz": 240
    },
    "id": "uDXPnbITXLKY",
    "outputId": "e4dfa249-8eb9-40d0-81cf-f42e67338f7d"
   },
   "outputs": [
    {
     "data": {
      "image/png": "[encoded data removed]",
      "text/plain": [
       "<IPython.core.display.Image object>"
      ]
     },
     "execution_count": 98,
     "metadata": {
      "tags": []
     },
     "output_type": "execute_result"
    }
   ],
   "source": [
    "from sklearn.tree import DecisionTreeClassifier\n",
    "\n",
    "sample_feats, genders = clean_cat_data(tplTrain, ['firstChar','firstTri','lastChar','lastTri'])\n",
    "\n",
    "dtree=DecisionTreeClassifier(criterion=\"entropy\", max_depth=3)\n",
    "dtree.fit(sample_feats,genders)\n",
    "\n",
    "from sklearn.externals.six import StringIO  \n",
    "from IPython.display import Image  \n",
    "from sklearn.tree import export_graphviz\n",
    "import pydotplus\n",
    "dot_data = StringIO()\n",
    "export_graphviz(dtree, out_file=dot_data,  \n",
    "                filled=True, rounded=True,\n",
    "                special_characters=True)\n",
    "\n",
    "graph = pydotplus.graph_from_dot_data(dot_data.getvalue())  \n",
    "Image(graph.create_png())"
   ]
  },
  {
   "cell_type": "code",
   "execution_count": null,
   "metadata": {
    "colab": {
     "base_uri": "https://localhost:8080/",
     "height": 35
    },
    "colab_type": "code",
    "executionInfo": {
     "elapsed": 519,
     "status": "ok",
     "timestamp": 1553970299964,
     "user": {
      "displayName": "Michele Bradley",
      "photoUrl": "",
      "userId": "03729855868837276798"
     },
     "user_tz": 240
    },
    "id": "FOgS1yGLZltR",
    "outputId": "bb92c40b-60e9-41ca-d88a-dbe7964807f6"
   },
   "outputs": [
    {
     "name": "stdout",
     "output_type": "stream",
     "text": [
      "Accuracy: 0.646\n"
     ]
    }
   ],
   "source": [
    "from sklearn import metrics\n",
    "test_feats, test_genders = clean_cat_data(tplDev, ['firstChar','firstTri','lastChar','lastTri'])\n",
    "\n",
    "y_pred = dtree.predict(test_feats)\n",
    "print(\"Accuracy:\",metrics.accuracy_score(test_genders, y_pred))"
   ]
  },
  {
   "cell_type": "markdown",
   "metadata": {
    "colab_type": "text",
    "id": "EyciXgdQKxRN"
   },
   "source": [
    "### Simple Neural Network\n",
    " \n",
    " Using the Multi-Layer Perceptron (MLP) algorithm from the sklearn package, we can test to see if a neural network will give us better results. Before this function can be used, the data will need to be prepped further.  All categorical variables will need to be mapped to a numerical value.\n",
    " "
   ]
  },
  {
   "cell_type": "code",
   "execution_count": null,
   "metadata": {
    "colab": {},
    "colab_type": "code",
    "id": "x9ToOfdfMA4R"
   },
   "outputs": [],
   "source": [
    "#Remove name column since the features and characteristic of the names have already been calculated.\n",
    "dfTrim = dfNames.drop(['name'], axis=1)\n",
    "\n",
    "#Map male and female variables to 0 and 1 respectively\n",
    "dfTrim = dfTrim.replace({'gender': {'male': 0, 'female': 1}})\n",
    "\n",
    "#Change all categorical variables to binary-numerical variables (1 or 0)\n",
    "#Logical True/False variables don't apply here\n",
    "dfTrim = pd.get_dummies(dfTrim)\n",
    "\n",
    "#For the columns that are boolean only, multiply the entire dataframe by 1.\n",
    "#This will change True to 1 and False to 0. Other values will stay the same\n",
    "dfTrim = dfTrim*1\n",
    " \n",
    "#Include most important features based on the Naive Bayes baseline model\n",
    "#since the MLPClassifier function doesn't have native feature selection/filtering.\n",
    "dfTrim2 = dfTrim[['gender', 'lastBi_na','lastBi_la','lastBi_ia','lastBi_ta','lastChar_k',\n",
    "                  'lastChar_a', 'lastBi_sa', 'lastBi_rt', 'lastBi_us', 'lastBi_ra']]"
   ]
  },
  {
   "cell_type": "code",
   "execution_count": null,
   "metadata": {
    "colab": {},
    "colab_type": "code",
    "id": "j9u4fQFHNBWx"
   },
   "outputs": [],
   "source": [
    "#Split data\n",
    "#This dataframe uses all columns\n",
    "X = dfTrim.drop('gender', axis=1)\n",
    "y = dfTrim['gender']\n",
    "\n",
    "#This dataframe uses only the important columns classified in the previous \n",
    "#Naive Bayes approach\n",
    "X2 = dfTrim2.drop('gender', axis=1)\n",
    "y2 = dfTrim2['gender']\n",
    "\n",
    "#Using the built-in functions to split the data. \n",
    "#Dev-test will be created manually if results are promising\n",
    "X_train, X_test, y_train, y_test = train_test_split(X, y)\n",
    "X_train2, X_test2, y_train2, y_test2 = train_test_split(X2, y2)"
   ]
  },
  {
   "cell_type": "code",
   "execution_count": 8,
   "metadata": {
    "colab": {
     "base_uri": "https://localhost:8080/",
     "height": 340
    },
    "colab_type": "code",
    "executionInfo": {
     "elapsed": 3926,
     "status": "ok",
     "timestamp": 1553993815087,
     "user": {
      "displayName": "SmithChad17",
      "photoUrl": "",
      "userId": "04621943973829576001"
     },
     "user_tz": 240
    },
    "id": "zK2E_q3vNkJG",
    "outputId": "20e54e05-75a1-4a89-a690-70f6cec204c8"
   },
   "outputs": [
    {
     "name": "stderr",
     "output_type": "stream",
     "text": [
      "/usr/local/lib/python3.6/dist-packages/sklearn/preprocessing/data.py:645: DataConversionWarning: Data with input dtype uint8, int64, object were all converted to float64 by StandardScaler.\n",
      "  return self.partial_fit(X, y)\n",
      "/usr/local/lib/python3.6/dist-packages/ipykernel_launcher.py:7: DataConversionWarning: Data with input dtype uint8, int64, object were all converted to float64 by StandardScaler.\n",
      "  import sys\n"
     ]
    },
    {
     "name": "stdout",
     "output_type": "stream",
     "text": [
      "[[ 1.88804477  1.34388209  2.12085789 ... -0.01832473 -0.01295646\n",
      "  -0.01295646]\n",
      " [-0.65697123 -0.90039974 -0.47470623 ... -0.01832473 -0.01295646\n",
      "  -0.01295646]\n",
      " [ 1.25179077  1.34388209  1.25566985 ... -0.01832473 -0.01295646\n",
      "  -0.01295646]\n",
      " ...\n",
      " [-1.92947923 -1.64849369 -2.2050823  ... -0.01832473 -0.01295646\n",
      "  -0.01295646]\n",
      " [ 0.61553677 -0.1523058   1.25566985 ... -0.01832473 -0.01295646\n",
      "  -0.01295646]\n",
      " [ 0.61553677 -0.1523058   0.39048181 ... -0.01832473 -0.01295646\n",
      "  -0.01295646]]\n"
     ]
    },
    {
     "name": "stderr",
     "output_type": "stream",
     "text": [
      "/usr/local/lib/python3.6/dist-packages/ipykernel_launcher.py:8: DataConversionWarning: Data with input dtype uint8, int64, object were all converted to float64 by StandardScaler.\n",
      "  \n"
     ]
    }
   ],
   "source": [
    "#According to sklearn, Multi-Layer Perceptron is sensitive to feature scaling,\n",
    "#so they recommend normalizing the data\n",
    "scaler = StandardScaler()\n",
    "\n",
    "#Fit to training data\n",
    "scaler.fit(X_train)\n",
    "\n",
    "#Normalize the dataframes\n",
    "X_train = scaler.transform(X_train)\n",
    "X_test = scaler.transform(X_test)\n",
    "\n",
    "#Example of the data normalized\n",
    "print(X_train[1:10])"
   ]
  },
  {
   "cell_type": "markdown",
   "metadata": {
    "colab_type": "text",
    "id": "bLJO7IDZNwTq"
   },
   "source": [
    "**Training the model**\n",
    "\n",
    "Depending on the hyper-parameters that are chosen, this may take a long time to compute.  The hidden layer is the amount of neurons that are in between the input and output layers. The output layer will be either a 1 or 0.  The hidden_layer paraemeter is a tuple that signifies how many layers there are and how many are in each layer.  Max_iter is how many times the classifier runs through the data and the alpha parameter signifies how much the errors are 'punished' for.  Small number means the weights are adjusted slightly where a larger number adjusts the weights more.  Changing these values can increase or decrease the accuracy as well as the computational time."
   ]
  },
  {
   "cell_type": "code",
   "execution_count": 14,
   "metadata": {
    "colab": {
     "base_uri": "https://localhost:8080/",
     "height": 204
    },
    "colab_type": "code",
    "executionInfo": {
     "elapsed": 225125,
     "status": "ok",
     "timestamp": 1553994762512,
     "user": {
      "displayName": "SmithChad17",
      "photoUrl": "",
      "userId": "04621943973829576001"
     },
     "user_tz": 240
    },
    "id": "3ey3reeDNr1-",
    "outputId": "c567b5cd-34fa-4f41-8b4e-42e22ac9f714"
   },
   "outputs": [
    {
     "name": "stdout",
     "output_type": "stream",
     "text": [
      "[[ 529  188]\n",
      " [ 213 1056]]\n",
      "              precision    recall  f1-score   support\n",
      "\n",
      "           0       0.71      0.74      0.73       717\n",
      "           1       0.85      0.83      0.84      1269\n",
      "\n",
      "   micro avg       0.80      0.80      0.80      1986\n",
      "   macro avg       0.78      0.78      0.78      1986\n",
      "weighted avg       0.80      0.80      0.80      1986\n",
      "\n"
     ]
    }
   ],
   "source": [
    "#Train the full feature model\n",
    "\n",
    "#All features\n",
    "#mlp = MLPClassifier(hidden_layer_sizes=(100,100,100), max_iter=500, random_state=1, alpha=.0001) #78% precision\n",
    "mlp = MLPClassifier(hidden_layer_sizes=(500,500,500), max_iter=500, random_state=1, alpha=.0001) #80% precision\n",
    "#mlp = MLPClassifier(hidden_layer_sizes=(250,250,250), max_iter=5000, random_state=1, alpha=.0001) #80% precision\n",
    "\n",
    "#Fitting the model and printing results\n",
    "mlp.fit(X_train, y_train)\n",
    "\n",
    "predictions = mlp.predict(X_test)\n",
    "\n",
    "print(confusion_matrix(y_test,predictions))\n",
    "print(classification_report(y_test,predictions))"
   ]
  },
  {
   "cell_type": "code",
   "execution_count": 13,
   "metadata": {
    "colab": {
     "base_uri": "https://localhost:8080/",
     "height": 306
    },
    "colab_type": "code",
    "executionInfo": {
     "elapsed": 931,
     "status": "ok",
     "timestamp": 1553994519467,
     "user": {
      "displayName": "SmithChad17",
      "photoUrl": "",
      "userId": "04621943973829576001"
     },
     "user_tz": 240
    },
    "id": "uIP6wQwAQAmj",
    "outputId": "f140e623-567e-4fd8-f7e1-2b314a421dff"
   },
   "outputs": [
    {
     "name": "stderr",
     "output_type": "stream",
     "text": [
      "/usr/local/lib/python3.6/dist-packages/sklearn/preprocessing/data.py:645: DataConversionWarning: Data with input dtype uint8 were all converted to float64 by StandardScaler.\n",
      "  return self.partial_fit(X, y)\n",
      "/usr/local/lib/python3.6/dist-packages/ipykernel_launcher.py:5: DataConversionWarning: Data with input dtype uint8 were all converted to float64 by StandardScaler.\n",
      "  \"\"\"\n",
      "/usr/local/lib/python3.6/dist-packages/ipykernel_launcher.py:6: DataConversionWarning: Data with input dtype uint8 were all converted to float64 by StandardScaler.\n",
      "  \n"
     ]
    },
    {
     "name": "stdout",
     "output_type": "stream",
     "text": [
      "[[  41  706]\n",
      " [   1 1238]]\n",
      "              precision    recall  f1-score   support\n",
      "\n",
      "           0       0.98      0.05      0.10       747\n",
      "           1       0.64      1.00      0.78      1239\n",
      "\n",
      "   micro avg       0.64      0.64      0.64      1986\n",
      "   macro avg       0.81      0.53      0.44      1986\n",
      "weighted avg       0.76      0.64      0.52      1986\n",
      "\n"
     ]
    }
   ],
   "source": [
    "#Train the selective feature model.\n",
    "\n",
    "scaler2 = StandardScaler()\n",
    "scaler2.fit(X_train2)\n",
    "\n",
    "X_train2 = scaler2.transform(X_train2)\n",
    "X_test2 = scaler2.transform(X_test2)\n",
    "\n",
    "#Selective features\n",
    "mlp2 = MLPClassifier(hidden_layer_sizes=(15,15,15), max_iter=500, random_state=1, alpha=.0001) #65% precision\n",
    "#mlp = MLPClassifier(hidden_layer_sizes=(150,150,150), max_iter=5000, random_state=1, alpha=.01) #65% precision\n",
    "\n",
    "#Fitting the model and printing results\n",
    "mlp2.fit(X_train2, y_train2)\n",
    "\n",
    "predictions2 = mlp2.predict(X_test2)\n",
    "\n",
    "print(confusion_matrix(y_test2,predictions2))\n",
    "print(classification_report(y_test2,predictions2))"
   ]
  },
  {
   "cell_type": "markdown",
   "metadata": {
    "colab_type": "text",
    "id": "p70K-K0wSz-h"
   },
   "source": [
    "**Neural Network Summary**\n",
    "\n",
    "There are some interesting circumstances when the model is run on the different datasets.  The model for the full dataset has the most precision at around 80%.  This still isn't as good as the Naive Bayes model.  The model with the limited columns has an even worse precision rate at 76%.  The interesting thing is that this model can predict male names better than the full feature model, a comparison of 98% to 71%.  This can be attributed to what columns were selected for this model as well as what hyper-parameters are selected.  A more advanced neural network or better tuning for this model may produce better results."
   ]
  },
  {
   "cell_type": "markdown",
   "metadata": {},
   "source": [
    "## Team3"
   ]
  },
  {
   "cell_type": "code",
   "execution_count": 14,
   "metadata": {},
   "outputs": [
    {
     "data": {
      "text/html": [
       "<div>\n",
       "<style scoped>\n",
       "    .dataframe tbody tr th:only-of-type {\n",
       "        vertical-align: middle;\n",
       "    }\n",
       "\n",
       "    .dataframe tbody tr th {\n",
       "        vertical-align: top;\n",
       "    }\n",
       "\n",
       "    .dataframe thead th {\n",
       "        text-align: right;\n",
       "    }\n",
       "</style>\n",
       "<table border=\"1\" class=\"dataframe\">\n",
       "  <thead>\n",
       "    <tr style=\"text-align: right;\">\n",
       "      <th></th>\n",
       "      <th>name</th>\n",
       "      <th>gender</th>\n",
       "      <th>firstChar</th>\n",
       "      <th>firstBi</th>\n",
       "      <th>firstTri</th>\n",
       "      <th>lastChar</th>\n",
       "      <th>lastBi</th>\n",
       "      <th>lastTri</th>\n",
       "      <th>cntChar</th>\n",
       "      <th>cntUnqChar</th>\n",
       "      <th>...</th>\n",
       "      <th>cnt_X</th>\n",
       "      <th>has_X</th>\n",
       "      <th>cnt_Y</th>\n",
       "      <th>has_Y</th>\n",
       "      <th>cnt_Z</th>\n",
       "      <th>has_Z</th>\n",
       "      <th>cntSyll</th>\n",
       "      <th>clusters1</th>\n",
       "      <th>clusters2</th>\n",
       "      <th>clusters3</th>\n",
       "    </tr>\n",
       "  </thead>\n",
       "  <tbody>\n",
       "    <tr>\n",
       "      <th>5177</th>\n",
       "      <td>arthur</td>\n",
       "      <td>male</td>\n",
       "      <td>a</td>\n",
       "      <td>ar</td>\n",
       "      <td>art</td>\n",
       "      <td>r</td>\n",
       "      <td>ur</td>\n",
       "      <td>hur</td>\n",
       "      <td>6</td>\n",
       "      <td>5</td>\n",
       "      <td>...</td>\n",
       "      <td>0</td>\n",
       "      <td>False</td>\n",
       "      <td>0</td>\n",
       "      <td>False</td>\n",
       "      <td>0</td>\n",
       "      <td>False</td>\n",
       "      <td>2</td>\n",
       "      <td>th</td>\n",
       "      <td>None</td>\n",
       "      <td>None</td>\n",
       "    </tr>\n",
       "    <tr>\n",
       "      <th>4642</th>\n",
       "      <td>teressa</td>\n",
       "      <td>female</td>\n",
       "      <td>t</td>\n",
       "      <td>te</td>\n",
       "      <td>ter</td>\n",
       "      <td>a</td>\n",
       "      <td>sa</td>\n",
       "      <td>ssa</td>\n",
       "      <td>7</td>\n",
       "      <td>5</td>\n",
       "      <td>...</td>\n",
       "      <td>0</td>\n",
       "      <td>False</td>\n",
       "      <td>0</td>\n",
       "      <td>False</td>\n",
       "      <td>0</td>\n",
       "      <td>False</td>\n",
       "      <td>3</td>\n",
       "      <td>None</td>\n",
       "      <td>None</td>\n",
       "      <td>None</td>\n",
       "    </tr>\n",
       "    <tr>\n",
       "      <th>4106</th>\n",
       "      <td>rheta</td>\n",
       "      <td>female</td>\n",
       "      <td>r</td>\n",
       "      <td>rh</td>\n",
       "      <td>rhe</td>\n",
       "      <td>a</td>\n",
       "      <td>ta</td>\n",
       "      <td>eta</td>\n",
       "      <td>5</td>\n",
       "      <td>5</td>\n",
       "      <td>...</td>\n",
       "      <td>0</td>\n",
       "      <td>False</td>\n",
       "      <td>0</td>\n",
       "      <td>False</td>\n",
       "      <td>0</td>\n",
       "      <td>False</td>\n",
       "      <td>2</td>\n",
       "      <td>None</td>\n",
       "      <td>None</td>\n",
       "      <td>None</td>\n",
       "    </tr>\n",
       "    <tr>\n",
       "      <th>3672</th>\n",
       "      <td>nady</td>\n",
       "      <td>female</td>\n",
       "      <td>n</td>\n",
       "      <td>na</td>\n",
       "      <td>nad</td>\n",
       "      <td>y</td>\n",
       "      <td>dy</td>\n",
       "      <td>ady</td>\n",
       "      <td>4</td>\n",
       "      <td>4</td>\n",
       "      <td>...</td>\n",
       "      <td>0</td>\n",
       "      <td>False</td>\n",
       "      <td>1</td>\n",
       "      <td>True</td>\n",
       "      <td>0</td>\n",
       "      <td>False</td>\n",
       "      <td>2</td>\n",
       "      <td>None</td>\n",
       "      <td>None</td>\n",
       "      <td>None</td>\n",
       "    </tr>\n",
       "    <tr>\n",
       "      <th>2793</th>\n",
       "      <td>kissie</td>\n",
       "      <td>female</td>\n",
       "      <td>k</td>\n",
       "      <td>ki</td>\n",
       "      <td>kis</td>\n",
       "      <td>e</td>\n",
       "      <td>ie</td>\n",
       "      <td>sie</td>\n",
       "      <td>6</td>\n",
       "      <td>4</td>\n",
       "      <td>...</td>\n",
       "      <td>0</td>\n",
       "      <td>False</td>\n",
       "      <td>0</td>\n",
       "      <td>False</td>\n",
       "      <td>0</td>\n",
       "      <td>False</td>\n",
       "      <td>1</td>\n",
       "      <td>None</td>\n",
       "      <td>None</td>\n",
       "      <td>None</td>\n",
       "    </tr>\n",
       "  </tbody>\n",
       "</table>\n",
       "<p>5 rows × 70 columns</p>\n",
       "</div>"
      ],
      "text/plain": [
       "         name  gender firstChar firstBi firstTri lastChar lastBi lastTri  \\\n",
       "5177   arthur    male         a      ar      art        r     ur     hur   \n",
       "4642  teressa  female         t      te      ter        a     sa     ssa   \n",
       "4106    rheta  female         r      rh      rhe        a     ta     eta   \n",
       "3672     nady  female         n      na      nad        y     dy     ady   \n",
       "2793   kissie  female         k      ki      kis        e     ie     sie   \n",
       "\n",
       "      cntChar  cntUnqChar    ...      cnt_X  has_X  cnt_Y  has_Y  cnt_Z  \\\n",
       "5177        6           5    ...          0  False      0  False      0   \n",
       "4642        7           5    ...          0  False      0  False      0   \n",
       "4106        5           5    ...          0  False      0  False      0   \n",
       "3672        4           4    ...          0  False      1   True      0   \n",
       "2793        6           4    ...          0  False      0  False      0   \n",
       "\n",
       "      has_Z  cntSyll  clusters1  clusters2  clusters3  \n",
       "5177  False        2         th       None       None  \n",
       "4642  False        3       None       None       None  \n",
       "4106  False        2       None       None       None  \n",
       "3672  False        2       None       None       None  \n",
       "2793  False        1       None       None       None  \n",
       "\n",
       "[5 rows x 70 columns]"
      ]
     },
     "execution_count": 14,
     "metadata": {},
     "output_type": "execute_result"
    }
   ],
   "source": [
    "dfNames.head(5)"
   ]
  },
  {
   "cell_type": "code",
   "execution_count": 15,
   "metadata": {},
   "outputs": [],
   "source": [
    "All_Names=pd.DataFrame(dfNames)\n",
    "\n",
    "# Create a set of dummy variables from the sex variable\n",
    "df_sex= pd.get_dummies(All_Names['gender'])"
   ]
  },
  {
   "cell_type": "code",
   "execution_count": 16,
   "metadata": {},
   "outputs": [
    {
     "data": {
      "text/plain": [
       "Index(['name', 'gender', 'firstChar', 'firstBi', 'firstTri', 'lastChar',\n",
       "       'lastBi', 'lastTri', 'cntChar', 'cntUnqChar', 'cntConsns', 'cntVowels',\n",
       "       'starVowel', 'endVowel', 'cnt_A', 'has_A', 'cnt_B', 'has_B', 'cnt_C',\n",
       "       'has_C', 'cnt_D', 'has_D', 'cnt_E', 'has_E', 'cnt_F', 'has_F', 'cnt_G',\n",
       "       'has_G', 'cnt_H', 'has_H', 'cnt_I', 'has_I', 'cnt_J', 'has_J', 'cnt_K',\n",
       "       'has_K', 'cnt_L', 'has_L', 'cnt_M', 'has_M', 'cnt_N', 'has_N', 'cnt_O',\n",
       "       'has_O', 'cnt_P', 'has_P', 'cnt_Q', 'has_Q', 'cnt_R', 'has_R', 'cnt_S',\n",
       "       'has_S', 'cnt_T', 'has_T', 'cnt_U', 'has_U', 'cnt_V', 'has_V', 'cnt_W',\n",
       "       'has_W', 'cnt_X', 'has_X', 'cnt_Y', 'has_Y', 'cnt_Z', 'has_Z',\n",
       "       'cntSyll', 'clusters1', 'clusters2', 'clusters3', 'female', 'male'],\n",
       "      dtype='object')"
      ]
     },
     "execution_count": 16,
     "metadata": {},
     "output_type": "execute_result"
    }
   ],
   "source": [
    "#create numerica column for gender\n",
    "All_Names= pd.concat([All_Names, df_sex], axis=1)\n",
    "All_Names.columns"
   ]
  },
  {
   "cell_type": "code",
   "execution_count": 17,
   "metadata": {},
   "outputs": [],
   "source": [
    "#femal=1, male=0\n",
    "All_Names['gender_num'] = np.where(All_Names.female == 1, 1,0)\n",
    "All_Names=All_Names.drop(['female', 'male'],axis=1)"
   ]
  },
  {
   "cell_type": "code",
   "execution_count": 18,
   "metadata": {},
   "outputs": [
    {
     "data": {
      "text/plain": [
       "Index(['cntChar', 'cntUnqChar', 'cntConsns', 'cntVowels', 'cnt_A', 'cnt_B',\n",
       "       'cnt_C', 'cnt_D', 'cnt_E', 'cnt_F', 'cnt_G', 'cnt_H', 'cnt_I', 'cnt_J',\n",
       "       'cnt_K', 'cnt_L', 'cnt_M', 'cnt_N', 'cnt_O', 'cnt_P', 'cnt_Q', 'cnt_R',\n",
       "       'cnt_S', 'cnt_T', 'cnt_U', 'cnt_V', 'cnt_W', 'cnt_X', 'cnt_Y', 'cnt_Z',\n",
       "       'cntSyll', 'gender_num'],\n",
       "      dtype='object')"
      ]
     },
     "execution_count": 18,
     "metadata": {},
     "output_type": "execute_result"
    }
   ],
   "source": [
    "#select all numerical columns \n",
    "numerics=['int16','int32','int64','float32','float64']\n",
    "All_Names_num=All_Names.select_dtypes(include=numerics)\n",
    "All_Names_num.columns"
   ]
  },
  {
   "cell_type": "code",
   "execution_count": 19,
   "metadata": {},
   "outputs": [
    {
     "data": {
      "text/html": [
       "<div>\n",
       "<style scoped>\n",
       "    .dataframe tbody tr th:only-of-type {\n",
       "        vertical-align: middle;\n",
       "    }\n",
       "\n",
       "    .dataframe tbody tr th {\n",
       "        vertical-align: top;\n",
       "    }\n",
       "\n",
       "    .dataframe thead th {\n",
       "        text-align: right;\n",
       "    }\n",
       "</style>\n",
       "<table border=\"1\" class=\"dataframe\">\n",
       "  <thead>\n",
       "    <tr style=\"text-align: right;\">\n",
       "      <th></th>\n",
       "      <th>cntChar</th>\n",
       "      <th>cntUnqChar</th>\n",
       "      <th>cntConsns</th>\n",
       "      <th>cntVowels</th>\n",
       "      <th>cnt_A</th>\n",
       "      <th>cnt_B</th>\n",
       "      <th>cnt_C</th>\n",
       "      <th>cnt_D</th>\n",
       "      <th>cnt_E</th>\n",
       "      <th>cnt_F</th>\n",
       "      <th>...</th>\n",
       "      <th>cnt_S</th>\n",
       "      <th>cnt_T</th>\n",
       "      <th>cnt_U</th>\n",
       "      <th>cnt_V</th>\n",
       "      <th>cnt_W</th>\n",
       "      <th>cnt_X</th>\n",
       "      <th>cnt_Y</th>\n",
       "      <th>cnt_Z</th>\n",
       "      <th>cntSyll</th>\n",
       "      <th>gender_num</th>\n",
       "    </tr>\n",
       "  </thead>\n",
       "  <tbody>\n",
       "    <tr>\n",
       "      <th>5177</th>\n",
       "      <td>6</td>\n",
       "      <td>5</td>\n",
       "      <td>4</td>\n",
       "      <td>2</td>\n",
       "      <td>1</td>\n",
       "      <td>0</td>\n",
       "      <td>0</td>\n",
       "      <td>0</td>\n",
       "      <td>0</td>\n",
       "      <td>0</td>\n",
       "      <td>...</td>\n",
       "      <td>0</td>\n",
       "      <td>1</td>\n",
       "      <td>1</td>\n",
       "      <td>0</td>\n",
       "      <td>0</td>\n",
       "      <td>0</td>\n",
       "      <td>0</td>\n",
       "      <td>0</td>\n",
       "      <td>2</td>\n",
       "      <td>0</td>\n",
       "    </tr>\n",
       "    <tr>\n",
       "      <th>4642</th>\n",
       "      <td>7</td>\n",
       "      <td>5</td>\n",
       "      <td>4</td>\n",
       "      <td>3</td>\n",
       "      <td>1</td>\n",
       "      <td>0</td>\n",
       "      <td>0</td>\n",
       "      <td>0</td>\n",
       "      <td>2</td>\n",
       "      <td>0</td>\n",
       "      <td>...</td>\n",
       "      <td>2</td>\n",
       "      <td>1</td>\n",
       "      <td>0</td>\n",
       "      <td>0</td>\n",
       "      <td>0</td>\n",
       "      <td>0</td>\n",
       "      <td>0</td>\n",
       "      <td>0</td>\n",
       "      <td>3</td>\n",
       "      <td>1</td>\n",
       "    </tr>\n",
       "    <tr>\n",
       "      <th>4106</th>\n",
       "      <td>5</td>\n",
       "      <td>5</td>\n",
       "      <td>3</td>\n",
       "      <td>2</td>\n",
       "      <td>1</td>\n",
       "      <td>0</td>\n",
       "      <td>0</td>\n",
       "      <td>0</td>\n",
       "      <td>1</td>\n",
       "      <td>0</td>\n",
       "      <td>...</td>\n",
       "      <td>0</td>\n",
       "      <td>1</td>\n",
       "      <td>0</td>\n",
       "      <td>0</td>\n",
       "      <td>0</td>\n",
       "      <td>0</td>\n",
       "      <td>0</td>\n",
       "      <td>0</td>\n",
       "      <td>2</td>\n",
       "      <td>1</td>\n",
       "    </tr>\n",
       "    <tr>\n",
       "      <th>3672</th>\n",
       "      <td>4</td>\n",
       "      <td>4</td>\n",
       "      <td>3</td>\n",
       "      <td>1</td>\n",
       "      <td>1</td>\n",
       "      <td>0</td>\n",
       "      <td>0</td>\n",
       "      <td>1</td>\n",
       "      <td>0</td>\n",
       "      <td>0</td>\n",
       "      <td>...</td>\n",
       "      <td>0</td>\n",
       "      <td>0</td>\n",
       "      <td>0</td>\n",
       "      <td>0</td>\n",
       "      <td>0</td>\n",
       "      <td>0</td>\n",
       "      <td>1</td>\n",
       "      <td>0</td>\n",
       "      <td>2</td>\n",
       "      <td>1</td>\n",
       "    </tr>\n",
       "    <tr>\n",
       "      <th>2793</th>\n",
       "      <td>6</td>\n",
       "      <td>4</td>\n",
       "      <td>3</td>\n",
       "      <td>3</td>\n",
       "      <td>0</td>\n",
       "      <td>0</td>\n",
       "      <td>0</td>\n",
       "      <td>0</td>\n",
       "      <td>1</td>\n",
       "      <td>0</td>\n",
       "      <td>...</td>\n",
       "      <td>2</td>\n",
       "      <td>0</td>\n",
       "      <td>0</td>\n",
       "      <td>0</td>\n",
       "      <td>0</td>\n",
       "      <td>0</td>\n",
       "      <td>0</td>\n",
       "      <td>0</td>\n",
       "      <td>1</td>\n",
       "      <td>1</td>\n",
       "    </tr>\n",
       "    <tr>\n",
       "      <th>6243</th>\n",
       "      <td>7</td>\n",
       "      <td>7</td>\n",
       "      <td>4</td>\n",
       "      <td>3</td>\n",
       "      <td>1</td>\n",
       "      <td>0</td>\n",
       "      <td>0</td>\n",
       "      <td>0</td>\n",
       "      <td>1</td>\n",
       "      <td>0</td>\n",
       "      <td>...</td>\n",
       "      <td>0</td>\n",
       "      <td>0</td>\n",
       "      <td>0</td>\n",
       "      <td>0</td>\n",
       "      <td>0</td>\n",
       "      <td>0</td>\n",
       "      <td>0</td>\n",
       "      <td>0</td>\n",
       "      <td>3</td>\n",
       "      <td>0</td>\n",
       "    </tr>\n",
       "    <tr>\n",
       "      <th>7469</th>\n",
       "      <td>6</td>\n",
       "      <td>6</td>\n",
       "      <td>4</td>\n",
       "      <td>2</td>\n",
       "      <td>0</td>\n",
       "      <td>0</td>\n",
       "      <td>0</td>\n",
       "      <td>0</td>\n",
       "      <td>1</td>\n",
       "      <td>0</td>\n",
       "      <td>...</td>\n",
       "      <td>1</td>\n",
       "      <td>0</td>\n",
       "      <td>1</td>\n",
       "      <td>0</td>\n",
       "      <td>0</td>\n",
       "      <td>0</td>\n",
       "      <td>0</td>\n",
       "      <td>0</td>\n",
       "      <td>2</td>\n",
       "      <td>0</td>\n",
       "    </tr>\n",
       "    <tr>\n",
       "      <th>6401</th>\n",
       "      <td>6</td>\n",
       "      <td>6</td>\n",
       "      <td>4</td>\n",
       "      <td>2</td>\n",
       "      <td>0</td>\n",
       "      <td>0</td>\n",
       "      <td>0</td>\n",
       "      <td>1</td>\n",
       "      <td>0</td>\n",
       "      <td>0</td>\n",
       "      <td>...</td>\n",
       "      <td>0</td>\n",
       "      <td>1</td>\n",
       "      <td>1</td>\n",
       "      <td>0</td>\n",
       "      <td>0</td>\n",
       "      <td>0</td>\n",
       "      <td>0</td>\n",
       "      <td>0</td>\n",
       "      <td>2</td>\n",
       "      <td>0</td>\n",
       "    </tr>\n",
       "    <tr>\n",
       "      <th>1799</th>\n",
       "      <td>5</td>\n",
       "      <td>5</td>\n",
       "      <td>3</td>\n",
       "      <td>2</td>\n",
       "      <td>1</td>\n",
       "      <td>0</td>\n",
       "      <td>0</td>\n",
       "      <td>0</td>\n",
       "      <td>0</td>\n",
       "      <td>1</td>\n",
       "      <td>...</td>\n",
       "      <td>0</td>\n",
       "      <td>0</td>\n",
       "      <td>0</td>\n",
       "      <td>0</td>\n",
       "      <td>0</td>\n",
       "      <td>0</td>\n",
       "      <td>0</td>\n",
       "      <td>0</td>\n",
       "      <td>2</td>\n",
       "      <td>1</td>\n",
       "    </tr>\n",
       "    <tr>\n",
       "      <th>108</th>\n",
       "      <td>10</td>\n",
       "      <td>7</td>\n",
       "      <td>6</td>\n",
       "      <td>4</td>\n",
       "      <td>3</td>\n",
       "      <td>0</td>\n",
       "      <td>0</td>\n",
       "      <td>1</td>\n",
       "      <td>1</td>\n",
       "      <td>0</td>\n",
       "      <td>...</td>\n",
       "      <td>2</td>\n",
       "      <td>0</td>\n",
       "      <td>0</td>\n",
       "      <td>0</td>\n",
       "      <td>0</td>\n",
       "      <td>0</td>\n",
       "      <td>0</td>\n",
       "      <td>0</td>\n",
       "      <td>4</td>\n",
       "      <td>1</td>\n",
       "    </tr>\n",
       "  </tbody>\n",
       "</table>\n",
       "<p>10 rows × 32 columns</p>\n",
       "</div>"
      ],
      "text/plain": [
       "      cntChar  cntUnqChar  cntConsns  cntVowels  cnt_A  cnt_B  cnt_C  cnt_D  \\\n",
       "5177        6           5          4          2      1      0      0      0   \n",
       "4642        7           5          4          3      1      0      0      0   \n",
       "4106        5           5          3          2      1      0      0      0   \n",
       "3672        4           4          3          1      1      0      0      1   \n",
       "2793        6           4          3          3      0      0      0      0   \n",
       "6243        7           7          4          3      1      0      0      0   \n",
       "7469        6           6          4          2      0      0      0      0   \n",
       "6401        6           6          4          2      0      0      0      1   \n",
       "1799        5           5          3          2      1      0      0      0   \n",
       "108        10           7          6          4      3      0      0      1   \n",
       "\n",
       "      cnt_E  cnt_F     ...      cnt_S  cnt_T  cnt_U  cnt_V  cnt_W  cnt_X  \\\n",
       "5177      0      0     ...          0      1      1      0      0      0   \n",
       "4642      2      0     ...          2      1      0      0      0      0   \n",
       "4106      1      0     ...          0      1      0      0      0      0   \n",
       "3672      0      0     ...          0      0      0      0      0      0   \n",
       "2793      1      0     ...          2      0      0      0      0      0   \n",
       "6243      1      0     ...          0      0      0      0      0      0   \n",
       "7469      1      0     ...          1      0      1      0      0      0   \n",
       "6401      0      0     ...          0      1      1      0      0      0   \n",
       "1799      0      1     ...          0      0      0      0      0      0   \n",
       "108       1      0     ...          2      0      0      0      0      0   \n",
       "\n",
       "      cnt_Y  cnt_Z  cntSyll  gender_num  \n",
       "5177      0      0        2           0  \n",
       "4642      0      0        3           1  \n",
       "4106      0      0        2           1  \n",
       "3672      1      0        2           1  \n",
       "2793      0      0        1           1  \n",
       "6243      0      0        3           0  \n",
       "7469      0      0        2           0  \n",
       "6401      0      0        2           0  \n",
       "1799      0      0        2           1  \n",
       "108       0      0        4           1  \n",
       "\n",
       "[10 rows x 32 columns]"
      ]
     },
     "execution_count": 19,
     "metadata": {},
     "output_type": "execute_result"
    }
   ],
   "source": [
    "All_Names_num.head(10)"
   ]
  },
  {
   "cell_type": "code",
   "execution_count": 20,
   "metadata": {
    "scrolled": true
   },
   "outputs": [
    {
     "data": {
      "image/png": "[encoded data removed]",
      "text/plain": [
       "<Figure size 432x288 with 2 Axes>"
      ]
     },
     "metadata": {
      "needs_background": "light"
     },
     "output_type": "display_data"
    }
   ],
   "source": [
    "corr = All_Names_num.corr()\n",
    "fig = plt.figure()\n",
    "ax = fig.add_subplot(111)\n",
    "cax = ax.matshow(corr,cmap='coolwarm', vmin=-1, vmax=1)\n",
    "fig.colorbar(cax)\n",
    "ticks = np.arange(0,len(All_Names_num.columns),1)\n",
    "ax.set_xticks(ticks)\n",
    "plt.xticks(rotation=90)\n",
    "ax.set_yticks(ticks)\n",
    "ax.set_xticklabels(All_Names_num.columns)\n",
    "ax.set_yticklabels(All_Names_num.columns)\n",
    "plt.show()"
   ]
  },
  {
   "cell_type": "code",
   "execution_count": 21,
   "metadata": {},
   "outputs": [
    {
     "data": {
      "text/plain": [
       "cnt_W       -0.155416\n",
       "cnt_O       -0.147454\n",
       "cnt_U       -0.103902\n",
       "cntConsns   -0.101230\n",
       "cnt_R       -0.089465\n",
       "cnt_H       -0.074913\n",
       "cnt_F       -0.070527\n",
       "cnt_D       -0.060332\n",
       "cnt_P       -0.056047\n",
       "cnt_G       -0.053793\n",
       "Name: gender_num, dtype: float64"
      ]
     },
     "execution_count": 21,
     "metadata": {},
     "output_type": "execute_result"
    }
   ],
   "source": [
    "score_corr=All_Names_num.corr(method ='pearson') \n",
    "score_corr=score_corr.sort_values(by=['gender_num'])\n",
    "score_corr.gender_num.head(10)"
   ]
  },
  {
   "cell_type": "code",
   "execution_count": 22,
   "metadata": {},
   "outputs": [
    {
     "data": {
      "text/plain": [
       "cnt_Y         0.022398\n",
       "cntChar       0.067322\n",
       "cnt_N         0.082118\n",
       "cnt_L         0.101569\n",
       "cnt_E         0.105287\n",
       "cnt_I         0.138905\n",
       "cntSyll       0.183163\n",
       "cnt_A         0.219535\n",
       "cntVowels     0.232340\n",
       "gender_num    1.000000\n",
       "Name: gender_num, dtype: float64"
      ]
     },
     "execution_count": 22,
     "metadata": {},
     "output_type": "execute_result"
    }
   ],
   "source": [
    "score_corr.gender_num.tail(10)"
   ]
  },
  {
   "cell_type": "code",
   "execution_count": 23,
   "metadata": {},
   "outputs": [],
   "source": [
    "corr_columns=['cnt_W','cnt_O','cnt_U','cntConsns'  ,'cnt_L' ,'cnt_E','cnt_I','cntSyll','cnt_A','cntVowels']"
   ]
  },
  {
   "cell_type": "code",
   "execution_count": 24,
   "metadata": {},
   "outputs": [
    {
     "name": "stdout",
     "output_type": "stream",
     "text": [
      "Data sizes; Training = 7444, Testing = 500\n"
     ]
    }
   ],
   "source": [
    "# set random seed for reproducibility\n",
    "random.seed(20190401)\n",
    "\n",
    "# randomly sort names list\n",
    "All_Names_num = shuffle(All_Names_num)\n",
    "\n",
    "# split data into training, development, and testing data sets\n",
    "dfTest, dfTrain = \\\n",
    "All_Names_num[0:500], All_Names_num[500:]\n",
    "\n",
    "# print length of data sets\n",
    "print(\"Data sizes; Training = {0}, Testing = {1}\"\n",
    "      .format(len(dfTrain), len(dfTest)))"
   ]
  },
  {
   "cell_type": "code",
   "execution_count": 25,
   "metadata": {},
   "outputs": [],
   "source": [
    "\n",
    "\n",
    "#import model classifer\n",
    "from sklearn.neural_network import MLPClassifier\n",
    "from sklearn.neighbors import KNeighborsClassifier\n",
    "from sklearn.svm import SVC\n",
    "from sklearn.gaussian_process import GaussianProcessClassifier\n",
    "from sklearn.gaussian_process.kernels import RBF\n",
    "from sklearn.tree import DecisionTreeClassifier\n",
    "from sklearn.ensemble import RandomForestClassifier, AdaBoostClassifier\n",
    "from sklearn.naive_bayes import GaussianNB\n",
    "from sklearn.discriminant_analysis import QuadraticDiscriminantAnalysis\n",
    "\n",
    "import numpy as np\n",
    "\n",
    "#Use K fold and cross validation\n",
    "from sklearn.model_selection import KFold\n",
    "from sklearn.model_selection import cross_val_score\n",
    "\n"
   ]
  },
  {
   "cell_type": "code",
   "execution_count": 26,
   "metadata": {},
   "outputs": [],
   "source": [
    "#Create a copy of train survival column for comparison    \n",
    "train_data = dfTrain.drop('gender_num',axis=1)\n",
    "target = dfTrain['gender_num']\n",
    "    "
   ]
  },
  {
   "cell_type": "code",
   "execution_count": 27,
   "metadata": {},
   "outputs": [],
   "source": [
    "from sklearn.model_selection import KFold"
   ]
  },
  {
   "cell_type": "code",
   "execution_count": 31,
   "metadata": {},
   "outputs": [
    {
     "name": "stdout",
     "output_type": "stream",
     "text": [
      "Determining the best models with given data...\n",
      "\n"
     ]
    },
    {
     "name": "stderr",
     "output_type": "stream",
     "text": [
      "C:\\Users\\czhu5\\Anaconda3\\lib\\site-packages\\sklearn\\svm\\base.py:196: FutureWarning: The default value of gamma will change from 'auto' to 'scale' in version 0.22 to account better for unscaled features. Set gamma explicitly to 'auto' or 'scale' to avoid this warning.\n",
      "  \"avoid this warning.\", FutureWarning)\n",
      "C:\\Users\\czhu5\\Anaconda3\\lib\\site-packages\\sklearn\\svm\\base.py:196: FutureWarning: The default value of gamma will change from 'auto' to 'scale' in version 0.22 to account better for unscaled features. Set gamma explicitly to 'auto' or 'scale' to avoid this warning.\n",
      "  \"avoid this warning.\", FutureWarning)\n",
      "C:\\Users\\czhu5\\Anaconda3\\lib\\site-packages\\sklearn\\svm\\base.py:196: FutureWarning: The default value of gamma will change from 'auto' to 'scale' in version 0.22 to account better for unscaled features. Set gamma explicitly to 'auto' or 'scale' to avoid this warning.\n",
      "  \"avoid this warning.\", FutureWarning)\n",
      "C:\\Users\\czhu5\\Anaconda3\\lib\\site-packages\\sklearn\\svm\\base.py:196: FutureWarning: The default value of gamma will change from 'auto' to 'scale' in version 0.22 to account better for unscaled features. Set gamma explicitly to 'auto' or 'scale' to avoid this warning.\n",
      "  \"avoid this warning.\", FutureWarning)\n",
      "C:\\Users\\czhu5\\Anaconda3\\lib\\site-packages\\sklearn\\svm\\base.py:196: FutureWarning: The default value of gamma will change from 'auto' to 'scale' in version 0.22 to account better for unscaled features. Set gamma explicitly to 'auto' or 'scale' to avoid this warning.\n",
      "  \"avoid this warning.\", FutureWarning)\n",
      "C:\\Users\\czhu5\\Anaconda3\\lib\\site-packages\\sklearn\\svm\\base.py:196: FutureWarning: The default value of gamma will change from 'auto' to 'scale' in version 0.22 to account better for unscaled features. Set gamma explicitly to 'auto' or 'scale' to avoid this warning.\n",
      "  \"avoid this warning.\", FutureWarning)\n",
      "C:\\Users\\czhu5\\Anaconda3\\lib\\site-packages\\sklearn\\svm\\base.py:196: FutureWarning: The default value of gamma will change from 'auto' to 'scale' in version 0.22 to account better for unscaled features. Set gamma explicitly to 'auto' or 'scale' to avoid this warning.\n",
      "  \"avoid this warning.\", FutureWarning)\n",
      "C:\\Users\\czhu5\\Anaconda3\\lib\\site-packages\\sklearn\\svm\\base.py:196: FutureWarning: The default value of gamma will change from 'auto' to 'scale' in version 0.22 to account better for unscaled features. Set gamma explicitly to 'auto' or 'scale' to avoid this warning.\n",
      "  \"avoid this warning.\", FutureWarning)\n",
      "C:\\Users\\czhu5\\Anaconda3\\lib\\site-packages\\sklearn\\svm\\base.py:196: FutureWarning: The default value of gamma will change from 'auto' to 'scale' in version 0.22 to account better for unscaled features. Set gamma explicitly to 'auto' or 'scale' to avoid this warning.\n",
      "  \"avoid this warning.\", FutureWarning)\n",
      "C:\\Users\\czhu5\\Anaconda3\\lib\\site-packages\\sklearn\\svm\\base.py:196: FutureWarning: The default value of gamma will change from 'auto' to 'scale' in version 0.22 to account better for unscaled features. Set gamma explicitly to 'auto' or 'scale' to avoid this warning.\n",
      "  \"avoid this warning.\", FutureWarning)\n",
      "C:\\Users\\czhu5\\Anaconda3\\lib\\site-packages\\sklearn\\svm\\base.py:196: FutureWarning: The default value of gamma will change from 'auto' to 'scale' in version 0.22 to account better for unscaled features. Set gamma explicitly to 'auto' or 'scale' to avoid this warning.\n",
      "  \"avoid this warning.\", FutureWarning)\n"
     ]
    },
    {
     "name": "stdout",
     "output_type": "stream",
     "text": [
      "{'Nearest Neighbors': 73.78, 'Linear SVM': 73.09, 'RBF SVM': 74.99, 'Decision Tree': 71.84, 'Random Forest': 63.97, 'AdaBoost': 72.74}\n",
      "\n",
      "The best classifier is...\n",
      "\n",
      "RBF SVM\n",
      "\n",
      "\n",
      "Saving classifier score...\n",
      "\n",
      "\n",
      "Training the model...\n",
      "\n"
     ]
    },
    {
     "name": "stderr",
     "output_type": "stream",
     "text": [
      "C:\\Users\\czhu5\\Anaconda3\\lib\\site-packages\\sklearn\\svm\\base.py:196: FutureWarning: The default value of gamma will change from 'auto' to 'scale' in version 0.22 to account better for unscaled features. Set gamma explicitly to 'auto' or 'scale' to avoid this warning.\n",
      "  \"avoid this warning.\", FutureWarning)\n"
     ]
    },
    {
     "data": {
      "text/plain": [
       "SVC(C=1.0, cache_size=200, class_weight=None, coef0=0.0,\n",
       "  decision_function_shape='ovr', degree=3, gamma='auto_deprecated',\n",
       "  kernel='rbf', max_iter=-1, probability=False, random_state=None,\n",
       "  shrinking=True, tol=0.001, verbose=False)"
      ]
     },
     "execution_count": 31,
     "metadata": {},
     "output_type": "execute_result"
    }
   ],
   "source": [
    "### MODELLING\n",
    "\n",
    "print(\"Determining the best models with given data...\\n\")\n",
    "\n",
    "# cross validation\n",
    "k_fold = KFold(n_splits=10, shuffle=True, random_state=0)\n",
    "\n",
    "\n",
    "names = [\"Nearest Neighbors\",\"Linear SVM\",\"RBF SVM\",\"Decision Tree\", \"Random Forest\", \"AdaBoost\"]\n",
    "\n",
    "\n",
    "classifiers = [\n",
    "    KNeighborsClassifier(13),\n",
    "    SVC(kernel=\"linear\", C=0.025),\n",
    "    SVC(),\n",
    "    DecisionTreeClassifier(max_depth=5),\n",
    "    RandomForestClassifier(max_depth=5, n_estimators=13, max_features=1),\n",
    "    AdaBoostClassifier()]\n",
    "\n",
    "\n",
    "\n",
    "classifier_scores = {}\n",
    "\n",
    "\n",
    "for name, clf in zip(names, classifiers):\n",
    "    clf.fit(train_data, target)\n",
    "    scoring = 'accuracy'\n",
    "    score = cross_val_score(clf, train_data, target, cv=k_fold, n_jobs=1, scoring=scoring)\n",
    "    classifier_scores[name] = round(np.mean(score)*100,2)\n",
    "    \n",
    "print(classifier_scores)\n",
    "\n",
    "#pick the best models basic on scores\n",
    "print(\"\\nThe best classifier is...\\n\")\n",
    "best_classifier = max(classifier_scores.keys(), key=(lambda k: classifier_scores[k]))\n",
    "print(best_classifier)\n",
    "print(\"\\n\")\n",
    "\n",
    "\n",
    "print(\"Saving classifier score...\\n\")\n",
    "score_pd = pd.DataFrame.from_dict(classifier_scores, orient='index')\n",
    "\n",
    "\n",
    "#train with the best model!!!!!\n",
    "print(\"\\nTraining the model...\\n\")\n",
    "\n",
    "clf = classifiers[names.index(best_classifier)]\n",
    "clf.fit(train_data, target)\n"
   ]
  },
  {
   "cell_type": "code",
   "execution_count": 32,
   "metadata": {},
   "outputs": [],
   "source": [
    "#prepare for test data\n",
    "test_data = dfTest.drop('gender_num',axis=1)\n",
    "target = dfTest['gender_num'] "
   ]
  },
  {
   "cell_type": "code",
   "execution_count": 34,
   "metadata": {},
   "outputs": [],
   "source": [
    "prediction = clf.predict(test_data)  "
   ]
  },
  {
   "cell_type": "code",
   "execution_count": 35,
   "metadata": {},
   "outputs": [],
   "source": [
    "#Format the prediction result\n",
    "comparision = pd.DataFrame ( {\n",
    " \"Target\": target,\n",
    " \"Prediction\": prediction\n",
    " } )"
   ]
  },
  {
   "cell_type": "code",
   "execution_count": 39,
   "metadata": {},
   "outputs": [],
   "source": [
    "comparision['match'] = np.where( (comparision.Target+comparision.Prediction) == 1, False, True)"
   ]
  },
  {
   "cell_type": "code",
   "execution_count": 44,
   "metadata": {},
   "outputs": [
    {
     "data": {
      "text/plain": [
       "0.748"
      ]
     },
     "execution_count": 44,
     "metadata": {},
     "output_type": "execute_result"
    }
   ],
   "source": [
    "len(comparision[comparision.match == True])/len(comparision)"
   ]
  },
  {
   "cell_type": "code",
   "execution_count": 37,
   "metadata": {},
   "outputs": [
    {
     "data": {
      "text/plain": [
       "array([[ 98,  85],\n",
       "       [ 41, 276]], dtype=int64)"
      ]
     },
     "execution_count": 37,
     "metadata": {},
     "output_type": "execute_result"
    }
   ],
   "source": [
    "from sklearn.metrics import confusion_matrix\n",
    "from show_confusion_matrix import show_confusion_matrix\n",
    "confusion_matrix(target, prediction)\n"
   ]
  },
  {
   "cell_type": "markdown",
   "metadata": {},
   "source": [
    "### Selected model\n",
    "\n",
    "For selecting a model the decided goal was to optimize based on accuracy. Of the models produced the Naive Bayes model using; first character, last character, first trigram, last trigram, syllable count, and consonant clusters had the highest accuracy.  \n",
    "\n",
    "## Final evaluation\n",
    "\n",
    "How does the performance on the test set compare to the performance on the dev-test set? Is this what you'd expect? The accuracy of test and training set are very close. The model performs similarly on the dev-test and test set. We can say that the model is a good fitted model."
   ]
  },
  {
   "cell_type": "code",
   "execution_count": 13,
   "metadata": {},
   "outputs": [
    {
     "name": "stdout",
     "output_type": "stream",
     "text": [
      "Accuracy = 0.834\n"
     ]
    }
   ],
   "source": [
    "# test accuracy of selected model on reserved test data\n",
    "tplTest = \\\n",
    "pd.DataFrame.from_dict(\n",
    "    {'featues' : dfTest[list(colFtrNms)].to_dict('records')\n",
    "     , 'gender' : dfTest['gender']}).apply(tuple, axis = 1).values.tolist()\n",
    "\n",
    "print(\"Accuracy = {0}\".format(nltk.classify.accuracy(nbMdlTrain, tplTest)))"
   ]
  }
 ],
 "metadata": {
  "kernelspec": {
   "display_name": "Python 3",
   "language": "python",
   "name": "python3"
  },
  "language_info": {
   "codemirror_mode": {
    "name": "ipython",
    "version": 3
   },
   "file_extension": ".py",
   "mimetype": "text/x-python",
   "name": "python",
   "nbconvert_exporter": "python",
   "pygments_lexer": "ipython3",
   "version": "3.6.7"
  }
 },
 "nbformat": 4,
 "nbformat_minor": 2
}
